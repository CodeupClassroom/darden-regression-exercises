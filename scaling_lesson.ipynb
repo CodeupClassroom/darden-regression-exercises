{
 "cells": [
  {
   "cell_type": "markdown",
   "metadata": {},
   "source": [
    "# Scaling\n",
    "\n",
    "Changing the range of our dataset.\n",
    "\n",
    "[Visual Demos](https://stats-demos.zach.wiki/)\n",
    "\n",
    "0. tldr\n",
    "\n",
    "1. Data Split\n",
    "\n",
    "    Scaling params found from train, applied to validate and test.\n",
    "\n",
    "2. Scaling - when, where, what, why, and how\n",
    "\n",
    "    - why\n",
    "        - visualize the combination of 2 variables with different scales\n",
    "        - stats tests that assume normality\n",
    "        - improves most model's implementation\n",
    "        - a better interpretation of the data (e.g. log scaling)\n",
    "        - combining features\n",
    "    - when\n",
    "        - data prep / exploration\n",
    "        - when one of the conditions above is met. Otherwise, it's better to work with the original units\n",
    "    - where\n",
    "        - the training dataset\n",
    "        - usually just the independent variables\n",
    "    - how:\n",
    "        - sklearn.preprocessing -- requires 2d array\n",
    "        - make the thing, fit the thing, use the thing\n",
    "        - `.fit` to learn parameters, `.transform` to apply the scaling\n",
    "        - seperate scaled dataframes and/or columns\n",
    "\n",
    "3. Linear Scaling\n",
    "\n",
    "    - MinMax: everything between 0 and 1\n",
    "        $$ x' = \\frac{x - \\text{max}(x)}{\\text{max}(x) - \\text{min}(x)} $$\n",
    "    - Standard: a zscore, standard deviations from the mean, **center** + **scale**\n",
    "        $$ x' = \\frac{x - \\bar{x}}{s_x} $$\n",
    "    - Robust: robust to and preserves outliers\n",
    "        $$ x' = \\frac{x - \\text{med}(x)}{\\text{IQR}_x} $$\n",
    "\n",
    "4. Non-linear Scaling\n",
    "\n",
    "    - Quantile: data points are \"ranked\", for a normal output, highest_orig -> highest_norm and then 2nd highest, etc\n",
    "\n",
    "    - Log\n",
    "\n",
    "        $$ x' = \\log_b{x} $$\n",
    "\n",
    "        $$ b^{x'} = x $$\n",
    "\n",
    "        Sometimes you can just set the x/y scale w/ matplotlib instead of\n",
    "        actually transforming the data\n",
    "        \n",
    "    - Power Trasnformation: Box-Cox and Yeo-Johnson"
   ]
  },
  {
   "cell_type": "code",
   "execution_count": 3,
   "metadata": {},
   "outputs": [],
   "source": [
    "import sklearn.preprocessing\n",
    "from sklearn.model_selection import train_test_split\n",
    "import numpy as np\n",
    "import pandas as pd\n",
    "import pydataset"
   ]
  },
  {
   "cell_type": "code",
   "execution_count": 5,
   "metadata": {},
   "outputs": [],
   "source": [
    "tips = pydataset.data('tips')"
   ]
  }
 ],
 "metadata": {
  "kernelspec": {
   "display_name": "Python 3",
   "language": "python",
   "name": "python3"
  },
  "language_info": {
   "codemirror_mode": {
    "name": "ipython",
    "version": 3
   },
   "file_extension": ".py",
   "mimetype": "text/x-python",
   "name": "python",
   "nbconvert_exporter": "python",
   "pygments_lexer": "ipython3",
   "version": "3.7.3"
  }
 },
 "nbformat": 4,
 "nbformat_minor": 4
}
