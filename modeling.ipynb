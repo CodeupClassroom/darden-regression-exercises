{
 "cells": [
  {
   "cell_type": "markdown",
   "metadata": {},
   "source": [
    "# Regression\n",
    "\n",
    "Regression is **supervised** machine learning technique for predicting a **continuous** target variable. \n",
    "\n",
    "1. Ordinary Least Squares: [sklearn.linear_model.LinearRegression(Normalize=True)](https://scikit-learn.org/stable/modules/generated/sklearn.linear_model.LinearRegression.html#sklearn.linear_model.LinearRegression)\n",
    "\n",
    "2. LASSO$^{1}$ + LARS$^{2}$  Performs both feature selection and noise reduction to avoid overfitting (through Regularization$^{3}$) to improve prediction performance and interpretability. Y should be normally distributed. [sklearn.linear_model.LassoLars(alpha=1.0)](https://scikit-learn.org/stable/modules/generated/sklearn.linear_model.LassoLars.html)\n",
    "\n",
    "3. Polynomial Regression: just like an ordinary linear model, but where the features are polynomial. So we create polynomial features using [sklearn.preprocessing.PolynomialFeatures(degree=d)](https://scikit-learn.org/stable/modules/generated/sklearn.preprocessing.PolynomialFeatures.html#sklearn.preprocessing.PolynomialFeatures.fit_transform) and then fit a model using [sklearn.linear_model.LinearRegression(Normalize=True)](https://scikit-learn.org/stable/modules/generated/sklearn.linear_model.LinearRegression.html#sklearn.linear_model.LinearRegression)\n",
    "\n",
    "4. Generalized Linear Model: Allows for different distributions, beyond just the Normal Distribution for OLS (and other models based on OLS, like LASSO).  [sklearn.linear_model.TweedieRegressor(power=n, alpha=1.0)](https://scikit-learn.org/stable/modules/generated/sklearn.linear_model.TweedieRegressor.html)\n",
    "\n",
    "Awesome...but what do I do with that information? \n",
    "\n",
    "\n",
    "- For a normally distributed y and a linear relationship, the first 2 options are best. \n",
    "\n",
    "- For polynomial relationships, polynomial regression is best. \n",
    "\n",
    "- For normal, poisson, gamma or inverse gaussian distributions, use the Generalize Linear Model. \n",
    "\n",
    "How do you know what you have? \n",
    "\n",
    "1. plt.hist(y_train)\n",
    "\n",
    "2. what shape does it resemble?\n",
    "\n",
    "3. try different algorithms!"
   ]
  },
  {
   "cell_type": "markdown",
   "metadata": {},
   "source": [
    "TweedieRegressor implements a generalized linear model for the Tweedie distribution, that allows to model any of the above mentioned distributions using the appropriate power parameter. In particular:\n",
    "\n",
    "power = 0: Normal distribution. Specific estimators such as Ridge, ElasticNet are generally more appropriate in this case.\n",
    "\n",
    "power = 1: Poisson distribution. PoissonRegressor is exposed for convenience. However, it is strictly equivalent to TweedieRegressor(power=1, link='log').\n",
    "\n",
    "power = 2: Gamma distribution. GammaRegressor is exposed for convenience. However, it is strictly equivalent to TweedieRegressor(power=2, link='log').\n",
    "\n",
    "power = 3: Inverse Gaussian distribution.\n",
    "\n",
    "The link function is determined by the link parameter."
   ]
  },
  {
   "cell_type": "markdown",
   "metadata": {},
   "source": [
    "$^{1}$ LASSO = Least Absolute Shrinkage and Selection Operator\n",
    "\n",
    "$^{2}$ LARS = Least Angle Regression\n",
    "\n",
    "$^{3}$ Regularization = \"Regularizations are techniques used to reduce the error by fitting a function appropriately on the given training set and avoid overfitting.\" [Towards Data Science](https://towardsdatascience.com/regularization-an-important-concept-in-machine-learning-5891628907ea)"
   ]
  },
  {
   "cell_type": "code",
   "execution_count": null,
   "metadata": {},
   "outputs": [],
   "source": []
  }
 ],
 "metadata": {
  "kernelspec": {
   "display_name": "Python 3",
   "language": "python",
   "name": "python3"
  },
  "language_info": {
   "codemirror_mode": {
    "name": "ipython",
    "version": 3
   },
   "file_extension": ".py",
   "mimetype": "text/x-python",
   "name": "python",
   "nbconvert_exporter": "python",
   "pygments_lexer": "ipython3",
   "version": "3.6.8"
  }
 },
 "nbformat": 4,
 "nbformat_minor": 2
}
